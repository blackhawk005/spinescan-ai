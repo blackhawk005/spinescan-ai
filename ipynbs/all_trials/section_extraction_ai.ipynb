{
 "cells": [
  {
   "cell_type": "code",
   "execution_count": 1,
   "metadata": {},
   "outputs": [],
   "source": [
    "import matplotlib.pyplot as plt\n",
    "import numpy as np\n",
    "import os\n",
    "import tensorflow as tf\n",
    "from tqdm import tqdm"
   ]
  },
  {
   "cell_type": "code",
   "execution_count": 2,
   "metadata": {},
   "outputs": [],
   "source": [
    "TRAIN_IMAGES_PATH = '/Volumes/SSD/rsna-2022-cervical-spine-fracture-detection/train_images'\n",
    "TEST_IMAGES_PATH = '/Volumes/SSD/rsna-2022-cervical-spine-fracture-detection/test_images'\n",
    "METADATA_PATH = '/Volumes/SSD/rsna-2022-cervical-spine-fracture-detection/metadata'"
   ]
  },
  {
   "cell_type": "code",
   "execution_count": 3,
   "metadata": {},
   "outputs": [],
   "source": [
    "import pandas as pd\n",
    "df_seg = pd.read_csv(f'{METADATA_PATH}/meta_segmentation.csv')"
   ]
  },
  {
   "cell_type": "code",
   "execution_count": 4,
   "metadata": {},
   "outputs": [],
   "source": [
    "slice_max_seg = df_seg.groupby('StudyInstanceUID')['Slice'].max().to_dict()\n",
    "df_seg['SliceRatio'] = 0\n",
    "df_seg['SliceRatio'] = df_seg['Slice'] / df_seg['StudyInstanceUID'].map(slice_max_seg)"
   ]
  },
  {
   "cell_type": "code",
   "execution_count": 9,
   "metadata": {},
   "outputs": [],
   "source": [
    "unique_list = list(df_seg['StudyInstanceUID'].unique())"
   ]
  },
  {
   "cell_type": "code",
   "execution_count": 20,
   "metadata": {},
   "outputs": [
    {
     "name": "stdout",
     "output_type": "stream",
     "text": [
      "['1.2.826.0.1.3680043.10633', '1.2.826.0.1.3680043.10921', '1.2.826.0.1.3680043.11827', '1.2.826.0.1.3680043.11988', '1.2.826.0.1.3680043.12281', '1.2.826.0.1.3680043.12292', '1.2.826.0.1.3680043.12833', '1.2.826.0.1.3680043.1363', '1.2.826.0.1.3680043.14267', '1.2.826.0.1.3680043.1480', '1.2.826.0.1.3680043.15206', '1.2.826.0.1.3680043.1542', '1.2.826.0.1.3680043.1573', '1.2.826.0.1.3680043.16092', '1.2.826.0.1.3680043.16919', '1.2.826.0.1.3680043.17481', '1.2.826.0.1.3680043.17960', '1.2.826.0.1.3680043.18480', '1.2.826.0.1.3680043.1868', '1.2.826.0.1.3680043.18906', '1.2.826.0.1.3680043.18935', '1.2.826.0.1.3680043.18968', '1.2.826.0.1.3680043.19021', '1.2.826.0.1.3680043.19333', '1.2.826.0.1.3680043.19388', '1.2.826.0.1.3680043.20120', '1.2.826.0.1.3680043.20647', '1.2.826.0.1.3680043.20928', '1.2.826.0.1.3680043.21321', '1.2.826.0.1.3680043.21651', '1.2.826.0.1.3680043.2243', '1.2.826.0.1.3680043.23904', '1.2.826.0.1.3680043.24140', '1.2.826.0.1.3680043.24606', '1.2.826.0.1.3680043.24617', '1.2.826.0.1.3680043.24891', '1.2.826.0.1.3680043.25704', '1.2.826.0.1.3680043.25833', '1.2.826.0.1.3680043.26068', '1.2.826.0.1.3680043.26110', '1.2.826.0.1.3680043.26442', '1.2.826.0.1.3680043.26492', '1.2.826.0.1.3680043.26498', '1.2.826.0.1.3680043.26740', '1.2.826.0.1.3680043.26898', '1.2.826.0.1.3680043.26979', '1.2.826.0.1.3680043.26990', '1.2.826.0.1.3680043.27016', '1.2.826.0.1.3680043.27292', '1.2.826.0.1.3680043.27752', '1.2.826.0.1.3680043.28025', '1.2.826.0.1.3680043.28327', '1.2.826.0.1.3680043.28665', '1.2.826.0.1.3680043.29425', '1.2.826.0.1.3680043.30067', '1.2.826.0.1.3680043.30487', '1.2.826.0.1.3680043.30524', '1.2.826.0.1.3680043.30565', '1.2.826.0.1.3680043.30640', '1.2.826.0.1.3680043.31077', '1.2.826.0.1.3680043.3168', '1.2.826.0.1.3680043.32071', '1.2.826.0.1.3680043.32280', '1.2.826.0.1.3680043.32370', '1.2.826.0.1.3680043.32434', '1.2.826.0.1.3680043.32436', '1.2.826.0.1.3680043.32590', '1.2.826.0.1.3680043.32658', '1.2.826.0.1.3680043.3376', '1.2.826.0.1.3680043.3882', '1.2.826.0.1.3680043.3992', '1.2.826.0.1.3680043.4202', '1.2.826.0.1.3680043.4769', '1.2.826.0.1.3680043.5002', '1.2.826.0.1.3680043.5671', '1.2.826.0.1.3680043.5782', '1.2.826.0.1.3680043.5783', '1.2.826.0.1.3680043.6078', '1.2.826.0.1.3680043.6125', '1.2.826.0.1.3680043.6376', '1.2.826.0.1.3680043.780', '1.2.826.0.1.3680043.8024', '1.2.826.0.1.3680043.8330', '1.2.826.0.1.3680043.8574', '1.2.826.0.1.3680043.8744', '1.2.826.0.1.3680043.8884', '1.2.826.0.1.3680043.9926']\n"
     ]
    }
   ],
   "source": [
    "print(unique_list)"
   ]
  },
  {
   "cell_type": "code",
   "execution_count": 46,
   "metadata": {},
   "outputs": [],
   "source": [
    "from pydrive.auth import GoogleAuth\n",
    "from pydrive.drive import GoogleDrive"
   ]
  },
  {
   "cell_type": "code",
   "execution_count": 47,
   "metadata": {},
   "outputs": [],
   "source": [
    "gauth = GoogleAuth()      \n",
    "drive = GoogleDrive(gauth)  "
   ]
  },
  {
   "cell_type": "code",
   "execution_count": 48,
   "metadata": {},
   "outputs": [
    {
     "name": "stdout",
     "output_type": "stream",
     "text": [
      "Your browser has been opened to visit:\n",
      "\n",
      "    https://accounts.google.com/o/oauth2/auth?client_id=1070504942186-iqh4fq2ks7lvgcap6mgqtne68hhohbfu.apps.googleusercontent.com&redirect_uri=http%3A%2F%2Flocalhost%3A8080%2F&scope=https%3A%2F%2Fwww.googleapis.com%2Fauth%2Fdrive&access_type=offline&response_type=code\n",
      "\n",
      "Authentication successful.\n"
     ]
    }
   ],
   "source": [
    "file_metadata = {\n",
    "  'title': 'test_folder',\n",
    "  'parents' : [{'id': '13s1wn9aXcItw-LefF2BGPWqNWVEl4mni'}],\n",
    "  'mimeType': 'application/vnd.google-apps.folder'\n",
    "}\n",
    "\n",
    "folder = drive.CreateFile(file_metadata)\n",
    "folder.Upload()"
   ]
  },
  {
   "cell_type": "code",
   "execution_count": 49,
   "metadata": {},
   "outputs": [
    {
     "name": "stdout",
     "output_type": "stream",
     "text": [
      "['1.2.826.0.1.3680043.26979', '1.2.826.0.1.3680043.26898', '1.2.826.0.1.3680043.26740', '1.2.826.0.1.3680043.26498', '1.2.826.0.1.3680043.26492', '1.2.826.0.1.3680043.26442', '1.2.826.0.1.3680043.26110', '1.2.826.0.1.3680043.26068', '1.2.826.0.1.3680043.25833', '1.2.826.0.1.3680043.25704', '1.2.826.0.1.3680043.24891', '1.2.826.0.1.3680043.24617', '1.2.826.0.1.3680043.24606', '1.2.826.0.1.3680043.24140', '1.2.826.0.1.3680043.23904', '1.2.826.0.1.3680043.2243', '1.2.826.0.1.3680043.21651', '1.2.826.0.1.3680043.21321', '1.2.826.0.1.3680043.20928', '1.2.826.0.1.3680043.20647', '1.2.826.0.1.3680043.20120', '1.2.826.0.1.3680043.19388', '1.2.826.0.1.3680043.19333', '1.2.826.0.1.3680043.19021', '1.2.826.0.1.3680043.18968', '1.2.826.0.1.3680043.18935', '1.2.826.0.1.3680043.18906', '1.2.826.0.1.3680043.1868', '1.2.826.0.1.3680043.18480', '1.2.826.0.1.3680043.17960', '1.2.826.0.1.3680043.17481', '1.2.826.0.1.3680043.16919', '1.2.826.0.1.3680043.16092', '1.2.826.0.1.3680043.1573', '1.2.826.0.1.3680043.1542', '1.2.826.0.1.3680043.15206', '1.2.826.0.1.3680043.1480', '1.2.826.0.1.3680043.14267', '1.2.826.0.1.3680043.1363', '1.2.826.0.1.3680043.12833', '1.2.826.0.1.3680043.12292', '1.2.826.0.1.3680043.12281', '1.2.826.0.1.3680043.11988', '1.2.826.0.1.3680043.11827', '1.2.826.0.1.3680043.10921', '1.2.826.0.1.3680043.10633']\n"
     ]
    }
   ],
   "source": [
    "file_list = drive.ListFile({'q': \"'13s1wn9aXcItw-LefF2BGPWqNWVEl4mni' in parents and trashed=false\"}).GetList()\n",
    "already_in_folder = []\n",
    "for i in file_list:\n",
    "    already_in_folder.append(i['title'])\n",
    "print(already_in_folder)"
   ]
  },
  {
   "cell_type": "code",
   "execution_count": 50,
   "metadata": {},
   "outputs": [
    {
     "name": "stdout",
     "output_type": "stream",
     "text": [
      "['1.2.826.0.1.3680043.26990', '1.2.826.0.1.3680043.27016', '1.2.826.0.1.3680043.27292', '1.2.826.0.1.3680043.27752', '1.2.826.0.1.3680043.28025', '1.2.826.0.1.3680043.28327', '1.2.826.0.1.3680043.28665', '1.2.826.0.1.3680043.29425', '1.2.826.0.1.3680043.30067', '1.2.826.0.1.3680043.30487', '1.2.826.0.1.3680043.30524', '1.2.826.0.1.3680043.30565', '1.2.826.0.1.3680043.30640', '1.2.826.0.1.3680043.31077', '1.2.826.0.1.3680043.3168', '1.2.826.0.1.3680043.32071', '1.2.826.0.1.3680043.32280', '1.2.826.0.1.3680043.32370', '1.2.826.0.1.3680043.32434', '1.2.826.0.1.3680043.32436', '1.2.826.0.1.3680043.32590', '1.2.826.0.1.3680043.32658', '1.2.826.0.1.3680043.3376', '1.2.826.0.1.3680043.3882', '1.2.826.0.1.3680043.3992', '1.2.826.0.1.3680043.4202', '1.2.826.0.1.3680043.4769', '1.2.826.0.1.3680043.5002', '1.2.826.0.1.3680043.5671', '1.2.826.0.1.3680043.5782', '1.2.826.0.1.3680043.5783', '1.2.826.0.1.3680043.6078', '1.2.826.0.1.3680043.6125', '1.2.826.0.1.3680043.6376', '1.2.826.0.1.3680043.780', '1.2.826.0.1.3680043.8024', '1.2.826.0.1.3680043.8330', '1.2.826.0.1.3680043.8574', '1.2.826.0.1.3680043.8744', '1.2.826.0.1.3680043.8884', '1.2.826.0.1.3680043.9926']\n"
     ]
    }
   ],
   "source": [
    "for i in already_in_folder:\n",
    "    if i in unique_list:\n",
    "        unique_list.remove(i)\n",
    "print(unique_list)"
   ]
  },
  {
   "cell_type": "code",
   "execution_count": 51,
   "metadata": {},
   "outputs": [
    {
     "ename": "KeyboardInterrupt",
     "evalue": "",
     "output_type": "error",
     "traceback": [
      "\u001b[0;31m---------------------------------------------------------------------------\u001b[0m",
      "\u001b[0;31mKeyboardInterrupt\u001b[0m                         Traceback (most recent call last)",
      "Cell \u001b[0;32mIn [51], line 31\u001b[0m\n\u001b[1;32m     29\u001b[0m f \u001b[39m=\u001b[39m drive\u001b[39m.\u001b[39mCreateFile({\u001b[39m'\u001b[39m\u001b[39mparents\u001b[39m\u001b[39m'\u001b[39m : [{\u001b[39m'\u001b[39m\u001b[39mid\u001b[39m\u001b[39m'\u001b[39m: child_folder_id}], \u001b[39m'\u001b[39m\u001b[39mtitle\u001b[39m\u001b[39m'\u001b[39m: x})\n\u001b[1;32m     30\u001b[0m f\u001b[39m.\u001b[39mSetContentFile(os\u001b[39m.\u001b[39mpath\u001b[39m.\u001b[39mjoin(path, x))\n\u001b[0;32m---> 31\u001b[0m f\u001b[39m.\u001b[39;49mUpload()\n\u001b[1;32m     33\u001b[0m \u001b[39m# Due to a known bug in pydrive if we \u001b[39;00m\n\u001b[1;32m     34\u001b[0m \u001b[39m# don't empty the variable used to\u001b[39;00m\n\u001b[1;32m     35\u001b[0m \u001b[39m# upload the files to Google Drive the\u001b[39;00m\n\u001b[1;32m     36\u001b[0m \u001b[39m# file stays open in memory and causes a\u001b[39;00m\n\u001b[1;32m     37\u001b[0m \u001b[39m# memory leak, therefore preventing its \u001b[39;00m\n\u001b[1;32m     38\u001b[0m \u001b[39m# deletion\u001b[39;00m\n\u001b[1;32m     39\u001b[0m f \u001b[39m=\u001b[39m \u001b[39mNone\u001b[39;00m\n",
      "File \u001b[0;32m/Library/Frameworks/Python.framework/Versions/3.8/lib/python3.8/site-packages/pydrive/files.py:285\u001b[0m, in \u001b[0;36mGoogleDriveFile.Upload\u001b[0;34m(self, param)\u001b[0m\n\u001b[1;32m    283\u001b[0m     \u001b[39mself\u001b[39m\u001b[39m.\u001b[39m_FilesPatch(param\u001b[39m=\u001b[39mparam)\n\u001b[1;32m    284\u001b[0m \u001b[39melse\u001b[39;00m:\n\u001b[0;32m--> 285\u001b[0m   \u001b[39mself\u001b[39;49m\u001b[39m.\u001b[39;49m_FilesInsert(param\u001b[39m=\u001b[39;49mparam)\n",
      "File \u001b[0;32m/Library/Frameworks/Python.framework/Versions/3.8/lib/python3.8/site-packages/pydrive/auth.py:75\u001b[0m, in \u001b[0;36mLoadAuth.<locals>._decorated\u001b[0;34m(self, *args, **kwargs)\u001b[0m\n\u001b[1;32m     72\u001b[0m \u001b[39melse\u001b[39;00m:  \u001b[39m# If HTTP object not specified, each call creates new HTTP object.\u001b[39;00m\n\u001b[1;32m     73\u001b[0m   \u001b[39mself\u001b[39m\u001b[39m.\u001b[39mhttp \u001b[39m=\u001b[39m \u001b[39mself\u001b[39m\u001b[39m.\u001b[39mauth\u001b[39m.\u001b[39mGet_Http_Object()\n\u001b[0;32m---> 75\u001b[0m \u001b[39mreturn\u001b[39;00m decoratee(\u001b[39mself\u001b[39;49m, \u001b[39m*\u001b[39;49margs, \u001b[39m*\u001b[39;49m\u001b[39m*\u001b[39;49mkwargs)\n",
      "File \u001b[0;32m/Library/Frameworks/Python.framework/Versions/3.8/lib/python3.8/site-packages/pydrive/files.py:368\u001b[0m, in \u001b[0;36mGoogleDriveFile._FilesInsert\u001b[0;34m(self, param)\u001b[0m\n\u001b[1;32m    366\u001b[0m   \u001b[39mif\u001b[39;00m \u001b[39mself\u001b[39m\u001b[39m.\u001b[39mdirty[\u001b[39m'\u001b[39m\u001b[39mcontent\u001b[39m\u001b[39m'\u001b[39m]:\n\u001b[1;32m    367\u001b[0m     param[\u001b[39m'\u001b[39m\u001b[39mmedia_body\u001b[39m\u001b[39m'\u001b[39m] \u001b[39m=\u001b[39m \u001b[39mself\u001b[39m\u001b[39m.\u001b[39m_BuildMediaBody()\n\u001b[0;32m--> 368\u001b[0m   metadata \u001b[39m=\u001b[39m \u001b[39mself\u001b[39;49m\u001b[39m.\u001b[39;49mauth\u001b[39m.\u001b[39;49mservice\u001b[39m.\u001b[39;49mfiles()\u001b[39m.\u001b[39;49minsert(\u001b[39m*\u001b[39;49m\u001b[39m*\u001b[39;49mparam)\u001b[39m.\u001b[39;49mexecute(\n\u001b[1;32m    369\u001b[0m     http\u001b[39m=\u001b[39;49m\u001b[39mself\u001b[39;49m\u001b[39m.\u001b[39;49mhttp)\n\u001b[1;32m    370\u001b[0m \u001b[39mexcept\u001b[39;00m errors\u001b[39m.\u001b[39mHttpError \u001b[39mas\u001b[39;00m error:\n\u001b[1;32m    371\u001b[0m   \u001b[39mraise\u001b[39;00m ApiRequestError(error)\n",
      "File \u001b[0;32m/Library/Frameworks/Python.framework/Versions/3.8/lib/python3.8/site-packages/googleapiclient/_helpers.py:130\u001b[0m, in \u001b[0;36mpositional.<locals>.positional_decorator.<locals>.positional_wrapper\u001b[0;34m(*args, **kwargs)\u001b[0m\n\u001b[1;32m    128\u001b[0m     \u001b[39melif\u001b[39;00m positional_parameters_enforcement \u001b[39m==\u001b[39m POSITIONAL_WARNING:\n\u001b[1;32m    129\u001b[0m         logger\u001b[39m.\u001b[39mwarning(message)\n\u001b[0;32m--> 130\u001b[0m \u001b[39mreturn\u001b[39;00m wrapped(\u001b[39m*\u001b[39;49margs, \u001b[39m*\u001b[39;49m\u001b[39m*\u001b[39;49mkwargs)\n",
      "File \u001b[0;32m/Library/Frameworks/Python.framework/Versions/3.8/lib/python3.8/site-packages/googleapiclient/http.py:902\u001b[0m, in \u001b[0;36mHttpRequest.execute\u001b[0;34m(self, http, num_retries)\u001b[0m\n\u001b[1;32m    900\u001b[0m     body \u001b[39m=\u001b[39m \u001b[39mNone\u001b[39;00m\n\u001b[1;32m    901\u001b[0m     \u001b[39mwhile\u001b[39;00m body \u001b[39mis\u001b[39;00m \u001b[39mNone\u001b[39;00m:\n\u001b[0;32m--> 902\u001b[0m         _, body \u001b[39m=\u001b[39m \u001b[39mself\u001b[39;49m\u001b[39m.\u001b[39;49mnext_chunk(http\u001b[39m=\u001b[39;49mhttp, num_retries\u001b[39m=\u001b[39;49mnum_retries)\n\u001b[1;32m    903\u001b[0m     \u001b[39mreturn\u001b[39;00m body\n\u001b[1;32m    905\u001b[0m \u001b[39m# Non-resumable case.\u001b[39;00m\n",
      "File \u001b[0;32m/Library/Frameworks/Python.framework/Versions/3.8/lib/python3.8/site-packages/googleapiclient/_helpers.py:130\u001b[0m, in \u001b[0;36mpositional.<locals>.positional_decorator.<locals>.positional_wrapper\u001b[0;34m(*args, **kwargs)\u001b[0m\n\u001b[1;32m    128\u001b[0m     \u001b[39melif\u001b[39;00m positional_parameters_enforcement \u001b[39m==\u001b[39m POSITIONAL_WARNING:\n\u001b[1;32m    129\u001b[0m         logger\u001b[39m.\u001b[39mwarning(message)\n\u001b[0;32m--> 130\u001b[0m \u001b[39mreturn\u001b[39;00m wrapped(\u001b[39m*\u001b[39;49margs, \u001b[39m*\u001b[39;49m\u001b[39m*\u001b[39;49mkwargs)\n",
      "File \u001b[0;32m/Library/Frameworks/Python.framework/Versions/3.8/lib/python3.8/site-packages/googleapiclient/http.py:1084\u001b[0m, in \u001b[0;36mHttpRequest.next_chunk\u001b[0;34m(self, http, num_retries)\u001b[0m\n\u001b[1;32m   1078\u001b[0m     LOGGER\u001b[39m.\u001b[39mwarning(\n\u001b[1;32m   1079\u001b[0m         \u001b[39m\"\u001b[39m\u001b[39mRetry #\u001b[39m\u001b[39m%d\u001b[39;00m\u001b[39m for media upload: \u001b[39m\u001b[39m%s\u001b[39;00m\u001b[39m \u001b[39m\u001b[39m%s\u001b[39;00m\u001b[39m, following status: \u001b[39m\u001b[39m%d\u001b[39;00m\u001b[39m\"\u001b[39m\n\u001b[1;32m   1080\u001b[0m         \u001b[39m%\u001b[39m (retry_num, \u001b[39mself\u001b[39m\u001b[39m.\u001b[39mmethod, \u001b[39mself\u001b[39m\u001b[39m.\u001b[39muri, resp\u001b[39m.\u001b[39mstatus)\n\u001b[1;32m   1081\u001b[0m     )\n\u001b[1;32m   1083\u001b[0m \u001b[39mtry\u001b[39;00m:\n\u001b[0;32m-> 1084\u001b[0m     resp, content \u001b[39m=\u001b[39m http\u001b[39m.\u001b[39;49mrequest(\n\u001b[1;32m   1085\u001b[0m         \u001b[39mself\u001b[39;49m\u001b[39m.\u001b[39;49mresumable_uri, method\u001b[39m=\u001b[39;49m\u001b[39m\"\u001b[39;49m\u001b[39mPUT\u001b[39;49m\u001b[39m\"\u001b[39;49m, body\u001b[39m=\u001b[39;49mdata, headers\u001b[39m=\u001b[39;49mheaders\n\u001b[1;32m   1086\u001b[0m     )\n\u001b[1;32m   1087\u001b[0m \u001b[39mexcept\u001b[39;00m:\n\u001b[1;32m   1088\u001b[0m     \u001b[39mself\u001b[39m\u001b[39m.\u001b[39m_in_error_state \u001b[39m=\u001b[39m \u001b[39mTrue\u001b[39;00m\n",
      "File \u001b[0;32m/Library/Frameworks/Python.framework/Versions/3.8/lib/python3.8/site-packages/oauth2client/transport.py:173\u001b[0m, in \u001b[0;36mwrap_http_for_auth.<locals>.new_request\u001b[0;34m(uri, method, body, headers, redirections, connection_type)\u001b[0m\n\u001b[1;32m    169\u001b[0m \u001b[39mif\u001b[39;00m \u001b[39mall\u001b[39m(\u001b[39mgetattr\u001b[39m(body, stream_prop, \u001b[39mNone\u001b[39;00m) \u001b[39mfor\u001b[39;00m stream_prop \u001b[39min\u001b[39;00m\n\u001b[1;32m    170\u001b[0m        _STREAM_PROPERTIES):\n\u001b[1;32m    171\u001b[0m     body_stream_position \u001b[39m=\u001b[39m body\u001b[39m.\u001b[39mtell()\n\u001b[0;32m--> 173\u001b[0m resp, content \u001b[39m=\u001b[39m request(orig_request_method, uri, method, body,\n\u001b[1;32m    174\u001b[0m                         clean_headers(headers),\n\u001b[1;32m    175\u001b[0m                         redirections, connection_type)\n\u001b[1;32m    177\u001b[0m \u001b[39m# A stored token may expire between the time it is retrieved and\u001b[39;00m\n\u001b[1;32m    178\u001b[0m \u001b[39m# the time the request is made, so we may need to try twice.\u001b[39;00m\n\u001b[1;32m    179\u001b[0m max_refresh_attempts \u001b[39m=\u001b[39m \u001b[39m2\u001b[39m\n",
      "File \u001b[0;32m/Library/Frameworks/Python.framework/Versions/3.8/lib/python3.8/site-packages/oauth2client/transport.py:280\u001b[0m, in \u001b[0;36mrequest\u001b[0;34m(http, uri, method, body, headers, redirections, connection_type)\u001b[0m\n\u001b[1;32m    278\u001b[0m \u001b[39m# NOTE: Allowing http or http.request is temporary (See Issue 601).\u001b[39;00m\n\u001b[1;32m    279\u001b[0m http_callable \u001b[39m=\u001b[39m \u001b[39mgetattr\u001b[39m(http, \u001b[39m'\u001b[39m\u001b[39mrequest\u001b[39m\u001b[39m'\u001b[39m, http)\n\u001b[0;32m--> 280\u001b[0m \u001b[39mreturn\u001b[39;00m http_callable(uri, method\u001b[39m=\u001b[39;49mmethod, body\u001b[39m=\u001b[39;49mbody, headers\u001b[39m=\u001b[39;49mheaders,\n\u001b[1;32m    281\u001b[0m                      redirections\u001b[39m=\u001b[39;49mredirections,\n\u001b[1;32m    282\u001b[0m                      connection_type\u001b[39m=\u001b[39;49mconnection_type)\n",
      "File \u001b[0;32m/Library/Frameworks/Python.framework/Versions/3.8/lib/python3.8/site-packages/httplib2/__init__.py:1720\u001b[0m, in \u001b[0;36mHttp.request\u001b[0;34m(self, uri, method, body, headers, redirections, connection_type)\u001b[0m\n\u001b[1;32m   1718\u001b[0m             content \u001b[39m=\u001b[39m \u001b[39mb\u001b[39m\u001b[39m\"\u001b[39m\u001b[39m\"\u001b[39m\n\u001b[1;32m   1719\u001b[0m         \u001b[39melse\u001b[39;00m:\n\u001b[0;32m-> 1720\u001b[0m             (response, content) \u001b[39m=\u001b[39m \u001b[39mself\u001b[39;49m\u001b[39m.\u001b[39;49m_request(\n\u001b[1;32m   1721\u001b[0m                 conn, authority, uri, request_uri, method, body, headers, redirections, cachekey,\n\u001b[1;32m   1722\u001b[0m             )\n\u001b[1;32m   1723\u001b[0m \u001b[39mexcept\u001b[39;00m \u001b[39mException\u001b[39;00m \u001b[39mas\u001b[39;00m e:\n\u001b[1;32m   1724\u001b[0m     is_timeout \u001b[39m=\u001b[39m \u001b[39misinstance\u001b[39m(e, socket\u001b[39m.\u001b[39mtimeout)\n",
      "File \u001b[0;32m/Library/Frameworks/Python.framework/Versions/3.8/lib/python3.8/site-packages/httplib2/__init__.py:1440\u001b[0m, in \u001b[0;36mHttp._request\u001b[0;34m(self, conn, host, absolute_uri, request_uri, method, body, headers, redirections, cachekey)\u001b[0m\n\u001b[1;32m   1437\u001b[0m \u001b[39mif\u001b[39;00m auth:\n\u001b[1;32m   1438\u001b[0m     auth\u001b[39m.\u001b[39mrequest(method, request_uri, headers, body)\n\u001b[0;32m-> 1440\u001b[0m (response, content) \u001b[39m=\u001b[39m \u001b[39mself\u001b[39;49m\u001b[39m.\u001b[39;49m_conn_request(conn, request_uri, method, body, headers)\n\u001b[1;32m   1442\u001b[0m \u001b[39mif\u001b[39;00m auth:\n\u001b[1;32m   1443\u001b[0m     \u001b[39mif\u001b[39;00m auth\u001b[39m.\u001b[39mresponse(response, body):\n",
      "File \u001b[0;32m/Library/Frameworks/Python.framework/Versions/3.8/lib/python3.8/site-packages/httplib2/__init__.py:1392\u001b[0m, in \u001b[0;36mHttp._conn_request\u001b[0;34m(self, conn, request_uri, method, body, headers)\u001b[0m\n\u001b[1;32m   1390\u001b[0m     \u001b[39mpass\u001b[39;00m\n\u001b[1;32m   1391\u001b[0m \u001b[39mtry\u001b[39;00m:\n\u001b[0;32m-> 1392\u001b[0m     response \u001b[39m=\u001b[39m conn\u001b[39m.\u001b[39;49mgetresponse()\n\u001b[1;32m   1393\u001b[0m \u001b[39mexcept\u001b[39;00m (http\u001b[39m.\u001b[39mclient\u001b[39m.\u001b[39mBadStatusLine, http\u001b[39m.\u001b[39mclient\u001b[39m.\u001b[39mResponseNotReady):\n\u001b[1;32m   1394\u001b[0m     \u001b[39m# If we get a BadStatusLine on the first try then that means\u001b[39;00m\n\u001b[1;32m   1395\u001b[0m     \u001b[39m# the connection just went stale, so retry regardless of the\u001b[39;00m\n\u001b[1;32m   1396\u001b[0m     \u001b[39m# number of RETRIES set.\u001b[39;00m\n\u001b[1;32m   1397\u001b[0m     \u001b[39mif\u001b[39;00m \u001b[39mnot\u001b[39;00m seen_bad_status_line \u001b[39mand\u001b[39;00m i \u001b[39m==\u001b[39m \u001b[39m1\u001b[39m:\n",
      "File \u001b[0;32m/Library/Frameworks/Python.framework/Versions/3.8/lib/python3.8/http/client.py:1347\u001b[0m, in \u001b[0;36mHTTPConnection.getresponse\u001b[0;34m(self)\u001b[0m\n\u001b[1;32m   1345\u001b[0m \u001b[39mtry\u001b[39;00m:\n\u001b[1;32m   1346\u001b[0m     \u001b[39mtry\u001b[39;00m:\n\u001b[0;32m-> 1347\u001b[0m         response\u001b[39m.\u001b[39;49mbegin()\n\u001b[1;32m   1348\u001b[0m     \u001b[39mexcept\u001b[39;00m \u001b[39mConnectionError\u001b[39;00m:\n\u001b[1;32m   1349\u001b[0m         \u001b[39mself\u001b[39m\u001b[39m.\u001b[39mclose()\n",
      "File \u001b[0;32m/Library/Frameworks/Python.framework/Versions/3.8/lib/python3.8/http/client.py:307\u001b[0m, in \u001b[0;36mHTTPResponse.begin\u001b[0;34m(self)\u001b[0m\n\u001b[1;32m    305\u001b[0m \u001b[39m# read until we get a non-100 response\u001b[39;00m\n\u001b[1;32m    306\u001b[0m \u001b[39mwhile\u001b[39;00m \u001b[39mTrue\u001b[39;00m:\n\u001b[0;32m--> 307\u001b[0m     version, status, reason \u001b[39m=\u001b[39m \u001b[39mself\u001b[39;49m\u001b[39m.\u001b[39;49m_read_status()\n\u001b[1;32m    308\u001b[0m     \u001b[39mif\u001b[39;00m status \u001b[39m!=\u001b[39m CONTINUE:\n\u001b[1;32m    309\u001b[0m         \u001b[39mbreak\u001b[39;00m\n",
      "File \u001b[0;32m/Library/Frameworks/Python.framework/Versions/3.8/lib/python3.8/http/client.py:268\u001b[0m, in \u001b[0;36mHTTPResponse._read_status\u001b[0;34m(self)\u001b[0m\n\u001b[1;32m    267\u001b[0m \u001b[39mdef\u001b[39;00m \u001b[39m_read_status\u001b[39m(\u001b[39mself\u001b[39m):\n\u001b[0;32m--> 268\u001b[0m     line \u001b[39m=\u001b[39m \u001b[39mstr\u001b[39m(\u001b[39mself\u001b[39;49m\u001b[39m.\u001b[39;49mfp\u001b[39m.\u001b[39;49mreadline(_MAXLINE \u001b[39m+\u001b[39;49m \u001b[39m1\u001b[39;49m), \u001b[39m\"\u001b[39m\u001b[39miso-8859-1\u001b[39m\u001b[39m\"\u001b[39m)\n\u001b[1;32m    269\u001b[0m     \u001b[39mif\u001b[39;00m \u001b[39mlen\u001b[39m(line) \u001b[39m>\u001b[39m _MAXLINE:\n\u001b[1;32m    270\u001b[0m         \u001b[39mraise\u001b[39;00m LineTooLong(\u001b[39m\"\u001b[39m\u001b[39mstatus line\u001b[39m\u001b[39m\"\u001b[39m)\n",
      "File \u001b[0;32m/Library/Frameworks/Python.framework/Versions/3.8/lib/python3.8/socket.py:669\u001b[0m, in \u001b[0;36mSocketIO.readinto\u001b[0;34m(self, b)\u001b[0m\n\u001b[1;32m    667\u001b[0m \u001b[39mwhile\u001b[39;00m \u001b[39mTrue\u001b[39;00m:\n\u001b[1;32m    668\u001b[0m     \u001b[39mtry\u001b[39;00m:\n\u001b[0;32m--> 669\u001b[0m         \u001b[39mreturn\u001b[39;00m \u001b[39mself\u001b[39;49m\u001b[39m.\u001b[39;49m_sock\u001b[39m.\u001b[39;49mrecv_into(b)\n\u001b[1;32m    670\u001b[0m     \u001b[39mexcept\u001b[39;00m timeout:\n\u001b[1;32m    671\u001b[0m         \u001b[39mself\u001b[39m\u001b[39m.\u001b[39m_timeout_occurred \u001b[39m=\u001b[39m \u001b[39mTrue\u001b[39;00m\n",
      "File \u001b[0;32m/Library/Frameworks/Python.framework/Versions/3.8/lib/python3.8/ssl.py:1241\u001b[0m, in \u001b[0;36mSSLSocket.recv_into\u001b[0;34m(self, buffer, nbytes, flags)\u001b[0m\n\u001b[1;32m   1237\u001b[0m     \u001b[39mif\u001b[39;00m flags \u001b[39m!=\u001b[39m \u001b[39m0\u001b[39m:\n\u001b[1;32m   1238\u001b[0m         \u001b[39mraise\u001b[39;00m \u001b[39mValueError\u001b[39;00m(\n\u001b[1;32m   1239\u001b[0m           \u001b[39m\"\u001b[39m\u001b[39mnon-zero flags not allowed in calls to recv_into() on \u001b[39m\u001b[39m%s\u001b[39;00m\u001b[39m\"\u001b[39m \u001b[39m%\u001b[39m\n\u001b[1;32m   1240\u001b[0m           \u001b[39mself\u001b[39m\u001b[39m.\u001b[39m\u001b[39m__class__\u001b[39m)\n\u001b[0;32m-> 1241\u001b[0m     \u001b[39mreturn\u001b[39;00m \u001b[39mself\u001b[39;49m\u001b[39m.\u001b[39;49mread(nbytes, buffer)\n\u001b[1;32m   1242\u001b[0m \u001b[39melse\u001b[39;00m:\n\u001b[1;32m   1243\u001b[0m     \u001b[39mreturn\u001b[39;00m \u001b[39msuper\u001b[39m()\u001b[39m.\u001b[39mrecv_into(buffer, nbytes, flags)\n",
      "File \u001b[0;32m/Library/Frameworks/Python.framework/Versions/3.8/lib/python3.8/ssl.py:1099\u001b[0m, in \u001b[0;36mSSLSocket.read\u001b[0;34m(self, len, buffer)\u001b[0m\n\u001b[1;32m   1097\u001b[0m \u001b[39mtry\u001b[39;00m:\n\u001b[1;32m   1098\u001b[0m     \u001b[39mif\u001b[39;00m buffer \u001b[39mis\u001b[39;00m \u001b[39mnot\u001b[39;00m \u001b[39mNone\u001b[39;00m:\n\u001b[0;32m-> 1099\u001b[0m         \u001b[39mreturn\u001b[39;00m \u001b[39mself\u001b[39;49m\u001b[39m.\u001b[39;49m_sslobj\u001b[39m.\u001b[39;49mread(\u001b[39mlen\u001b[39;49m, buffer)\n\u001b[1;32m   1100\u001b[0m     \u001b[39melse\u001b[39;00m:\n\u001b[1;32m   1101\u001b[0m         \u001b[39mreturn\u001b[39;00m \u001b[39mself\u001b[39m\u001b[39m.\u001b[39m_sslobj\u001b[39m.\u001b[39mread(\u001b[39mlen\u001b[39m)\n",
      "\u001b[0;31mKeyboardInterrupt\u001b[0m: "
     ]
    }
   ],
   "source": [
    "# file_list = drive.ListFile({'q': \"'{}' in parents and trashed=false\".format('1cIMiqUDUNldxO6Nl-KVuS9SV-cWi9WLi')}).GetList()\n",
    "# for file in file_list:\n",
    "# \tprint('title: %s, id: %s' % (file['title'], file['id']))\n",
    "parent_folder = '13s1wn9aXcItw-LefF2BGPWqNWVEl4mni'\n",
    "\n",
    "\n",
    "for i in unique_list:\n",
    "    file_metadata = {\n",
    "        'title': i,\n",
    "        'parents' : [{'id': parent_folder}],\n",
    "        'mimeType': 'application/vnd.google-apps.folder'\n",
    "    }\n",
    "    folder = drive.CreateFile(file_metadata)\n",
    "    folder.Upload()\n",
    "    \n",
    "    child_folder_id = ''\n",
    "    file_list = drive.ListFile({'q': \"'13s1wn9aXcItw-LefF2BGPWqNWVEl4mni' in parents and trashed=false\"}).GetList()\n",
    "    for j in file_list:\n",
    "        if j['title'] == i:\n",
    "            child_folder_id = j['id']\n",
    "            break\n",
    "        \n",
    "    path = \"/Volumes/SSD/rsna-2022-cervical-spine-fracture-detection/train_images/\" + str(i)   \n",
    "    \n",
    "    # iterating thought all the files/folder\n",
    "    # of the desired directory\n",
    "    for x in os.listdir(path):\n",
    "    \n",
    "        f = drive.CreateFile({'parents' : [{'id': child_folder_id}], 'title': x})\n",
    "        f.SetContentFile(os.path.join(path, x))\n",
    "        f.Upload()\n",
    "    \n",
    "        # Due to a known bug in pydrive if we \n",
    "        # don't empty the variable used to\n",
    "        # upload the files to Google Drive the\n",
    "        # file stays open in memory and causes a\n",
    "        # memory leak, therefore preventing its \n",
    "        # deletion\n",
    "        f = None\n",
    "# file1 = drive.CreateFile({'parents' : [{'id': folder}], 'title': x})\n"
   ]
  },
  {
   "cell_type": "code",
   "execution_count": 6,
   "metadata": {},
   "outputs": [
    {
     "name": "stdout",
     "output_type": "stream",
     "text": [
      "29832\n"
     ]
    }
   ],
   "source": [
    "targets = ['C1','C2','C3','C4','C5','C6','C7']\n",
    "print(len(df_seg))"
   ]
  },
  {
   "cell_type": "code",
   "execution_count": 7,
   "metadata": {},
   "outputs": [],
   "source": [
    "y = df_seg[targets].to_numpy()"
   ]
  },
  {
   "cell_type": "code",
   "execution_count": 8,
   "metadata": {},
   "outputs": [],
   "source": [
    "df_seg_1 = df_seg[:5000]"
   ]
  },
  {
   "cell_type": "code",
   "execution_count": 9,
   "metadata": {},
   "outputs": [
    {
     "name": "stdout",
     "output_type": "stream",
     "text": [
      "done\n"
     ]
    }
   ],
   "source": [
    "input_arr = []\n",
    "for i in df_seg_1.index:\n",
    "    study_instance = df_seg_1['StudyInstanceUID'][i]\n",
    "    instance_slice = df_seg_1['Slice'][i]\n",
    "    path_img = f'/Volumes/SSD/rsna-2022-cervical-spine-fracture-detection/class_train/classification_training/{study_instance}-{instance_slice}.png'\n",
    "    image = tf.keras.preprocessing.image.load_img(path_img)\n",
    "    input_arr.append(tf.keras.preprocessing.image.img_to_array(image))\n",
    "print('done')"
   ]
  },
  {
   "cell_type": "code",
   "execution_count": 10,
   "metadata": {},
   "outputs": [
    {
     "ename": "",
     "evalue": "",
     "output_type": "error",
     "traceback": [
      "\u001b[1;31mCanceled future for execute_request message before replies were done"
     ]
    },
    {
     "ename": "",
     "evalue": "",
     "output_type": "error",
     "traceback": [
      "\u001b[1;31mThe Kernel crashed while executing code in the the current cell or a previous cell. Please review the code in the cell(s) to identify a possible cause of the failure. Click <a href='https://aka.ms/vscodeJupyterKernelCrash'>here</a> for more info. View Jupyter <a href='command:jupyter.viewOutput'>log</a> for further details."
     ]
    }
   ],
   "source": [
    "input_arr = np.array([input_arr]) "
   ]
  },
  {
   "cell_type": "code",
   "execution_count": 8,
   "metadata": {},
   "outputs": [],
   "source": [
    "# from keras.preprocessing.image import ImageDataGenerator\n",
    "# batches = ImageDataGenerator().flow_from_directory(directory='/Volumes/SSD/rsna-2022-cervical-spine-fracture-detection/class_train', target_size=(512,512), batch_size=20000)\n",
    "# imgs, labels = next(batches)\n",
    "# ms = np.array(imgs[0]).astype(np.uint8)\n",
    "# plt.imshow(ms)"
   ]
  },
  {
   "cell_type": "code",
   "execution_count": null,
   "metadata": {},
   "outputs": [],
   "source": []
  }
 ],
 "metadata": {
  "kernelspec": {
   "display_name": "Python 3 (ipykernel)",
   "language": "python",
   "name": "python3"
  },
  "language_info": {
   "codemirror_mode": {
    "name": "ipython",
    "version": 3
   },
   "file_extension": ".py",
   "mimetype": "text/x-python",
   "name": "python",
   "nbconvert_exporter": "python",
   "pygments_lexer": "ipython3",
   "version": "3.8.7"
  },
  "vscode": {
   "interpreter": {
    "hash": "0adcc2737ebf6a4a119f135174df96668767fca1ef1112612db5ecadf2b6d608"
   }
  }
 },
 "nbformat": 4,
 "nbformat_minor": 4
}
